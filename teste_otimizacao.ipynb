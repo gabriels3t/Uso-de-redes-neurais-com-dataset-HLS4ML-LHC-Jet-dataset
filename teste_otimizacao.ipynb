{
 "cells": [
  {
   "cell_type": "code",
   "execution_count": 1,
   "metadata": {},
   "outputs": [],
   "source": [
    "\n",
    "import matplotlib.pyplot as plt\n",
    "import numpy as np \n",
    "import seaborn as sn\n",
    "import torch\n"
   ]
  },
  {
   "cell_type": "code",
   "execution_count": 2,
   "metadata": {},
   "outputs": [],
   "source": [
    "treino = torch.load(\"data/treino_particle.pt\")\n",
    "teste = torch.load(\"data/teste_particle.pt\")"
   ]
  },
  {
   "cell_type": "markdown",
   "metadata": {},
   "source": [
    "# Normalizando"
   ]
  },
  {
   "cell_type": "code",
   "execution_count": 3,
   "metadata": {},
   "outputs": [],
   "source": [
    "from sklearn.preprocessing import StandardScaler"
   ]
  },
  {
   "cell_type": "code",
   "execution_count": 4,
   "metadata": {},
   "outputs": [],
   "source": [
    "sc = StandardScaler()\n",
    "treino_norm = sc.fit_transform(treino[:,0:-1])\n",
    "y_treino = treino[:,-1]\n"
   ]
  },
  {
   "cell_type": "code",
   "execution_count": 5,
   "metadata": {},
   "outputs": [
    {
     "data": {
      "text/plain": [
       "array([ 8.52577913e+00, -2.13195204e+00,  1.15917927e+00,  4.55274793e+00,\n",
       "        5.62765844e+00,  6.62813725e+00,  5.63624251e+00,  2.45465204e-01,\n",
       "       -6.76513533e-02, -3.72452080e-04, -1.36891793e-01, -3.91514539e-02,\n",
       "        5.93809858e-01, -1.03769838e+00,  3.31891907e-01, -3.66826579e-04])"
      ]
     },
     "execution_count": 5,
     "metadata": {},
     "output_type": "execute_result"
    }
   ],
   "source": [
    "treino_norm[0]"
   ]
  },
  {
   "cell_type": "markdown",
   "metadata": {},
   "source": [
    "# Verificando qual otimizador utilizar "
   ]
  },
  {
   "cell_type": "code",
   "execution_count": 6,
   "metadata": {},
   "outputs": [],
   "source": [
    "from skorch import NeuralNetBinaryClassifier\n",
    "from torch import nn\n",
    "from sklearn.model_selection import GridSearchCV"
   ]
  },
  {
   "cell_type": "markdown",
   "metadata": {},
   "source": [
    "## Criando modelo"
   ]
  },
  {
   "cell_type": "code",
   "execution_count": 7,
   "metadata": {},
   "outputs": [],
   "source": [
    "class MLPClassification(nn.Module):\n",
    "  def __init__(self):\n",
    "    super().__init__()\n",
    "\n",
    "\n",
    "    self.layers = nn.Sequential(\n",
    "        nn.Linear(16,1300),\n",
    "        nn.ReLU(),\n",
    "        nn.Linear(1300,700),\n",
    "        nn.ReLU(),\n",
    "        nn.Linear(700,350),\n",
    "        nn.ReLU(),\n",
    "        nn.Linear(350,200),\n",
    "        nn.ReLU(),\n",
    "        nn.Linear(200,50),\n",
    "        nn.ReLU(),\n",
    "        nn.Linear(50,1),\n",
    "        nn.Sigmoid()\n",
    "    )\n",
    "  def forward(self,x):\n",
    "    return self.layers(x)"
   ]
  },
  {
   "cell_type": "code",
   "execution_count": 8,
   "metadata": {},
   "outputs": [],
   "source": [
    "model = NeuralNetBinaryClassifier(\n",
    "    MLPClassification(),\n",
    "    criterion=nn.BCELoss,\n",
    "    optimizer = torch.optim.Adam,\n",
    "    verbose=0,\n",
    "    device = torch.device('cuda' if torch.cuda.is_available() else 'cpu')\n",
    ")"
   ]
  },
  {
   "cell_type": "code",
   "execution_count": 9,
   "metadata": {},
   "outputs": [
    {
     "data": {
      "text/plain": [
       "device(type='cuda')"
      ]
     },
     "execution_count": 9,
     "metadata": {},
     "output_type": "execute_result"
    }
   ],
   "source": [
    "torch.device('cuda' if torch.cuda.is_available() else 'cpu')"
   ]
  },
  {
   "cell_type": "code",
   "execution_count": 10,
   "metadata": {},
   "outputs": [],
   "source": [
    "param_grid ={\n",
    "    'batch_size': [128, 32, 256, 8],\n",
    "    'max_epochs': [150, 200, 250]\n",
    "}"
   ]
  },
  {
   "cell_type": "code",
   "execution_count": 11,
   "metadata": {},
   "outputs": [],
   "source": [
    "grid = GridSearchCV(estimator=model,param_grid=param_grid,n_jobs=None,cv=3)\n",
    "treino_norm = np.copy(treino_norm).astype(np.float32)\n",
    "y_treino = np.copy(y_treino).astype(np.float32)\n",
    "grid_result = grid.fit(treino_norm,y_treino)"
   ]
  },
  {
   "cell_type": "code",
   "execution_count": null,
   "metadata": {},
   "outputs": [
    {
     "name": "stdout",
     "output_type": "stream",
     "text": [
      "Best: 0.798520 using {'optimizer': <class 'torch.optim.adam.Adam'>}\n",
      "0.798520 (0.000000) with: {'optimizer': <class 'torch.optim.adam.Adam'>}\n",
      "0.201481 (0.000001) with: {'optimizer': <class 'torch.optim.sgd.SGD'>}\n"
     ]
    }
   ],
   "source": [
    "print(\"Best: %f using %s\" % (grid_result.best_score_, grid_result.best_params_))\n",
    "means = grid_result.cv_results_['mean_test_score']\n",
    "stds = grid_result.cv_results_['std_test_score']\n",
    "params = grid_result.cv_results_['params']\n",
    "for mean, stdev, param in zip(means, stds, params):\n",
    "    print(\"%f (%f) with: %r\" % (mean, stdev, param))"
   ]
  }
 ],
 "metadata": {
  "kernelspec": {
   "display_name": "principal",
   "language": "python",
   "name": "python3"
  },
  "language_info": {
   "codemirror_mode": {
    "name": "ipython",
    "version": 3
   },
   "file_extension": ".py",
   "mimetype": "text/x-python",
   "name": "python",
   "nbconvert_exporter": "python",
   "pygments_lexer": "ipython3",
   "version": "3.12.3"
  }
 },
 "nbformat": 4,
 "nbformat_minor": 2
}

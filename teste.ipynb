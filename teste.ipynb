{
 "cells": [
  {
   "cell_type": "code",
   "execution_count": 1,
   "metadata": {},
   "outputs": [],
   "source": [
    "import torch"
   ]
  },
  {
   "cell_type": "code",
   "execution_count": 2,
   "metadata": {},
   "outputs": [
    {
     "data": {
      "text/plain": [
       "True"
      ]
     },
     "execution_count": 2,
     "metadata": {},
     "output_type": "execute_result"
    }
   ],
   "source": [
    "torch.cuda.is_available()"
   ]
  },
  {
   "cell_type": "code",
   "execution_count": 13,
   "metadata": {},
   "outputs": [],
   "source": [
    "import torch\n",
    "import torch.nn.functional as F\n",
    "from torch import nn\n",
    "from sklearn.metrics import confusion_matrix\n",
    "import matplotlib.pyplot as plt\n",
    "import seaborn as sns\n",
    "\n",
    "def load_model(model_path, model_class, *model_args):\n",
    "    \"\"\"\n",
    "    Carrega um modelo salvo em um arquivo .pth.\n",
    "\n",
    "    Args:\n",
    "        model_path (str): Caminho para o arquivo .pth.\n",
    "        model_class (class): Classe do modelo que será instanciada.\n",
    "        *model_args: Argumentos para a inicialização do modelo.\n",
    "\n",
    "    Returns:\n",
    "        torch.nn.Module: Modelo carregado.\n",
    "    \"\"\"\n",
    "    model = model_class(*model_args)\n",
    "    model.load_state_dict(torch.load(model_path))\n",
    "    model.eval()\n",
    "    return model\n",
    "\n"
   ]
  },
  {
   "cell_type": "code",
   "execution_count": 11,
   "metadata": {},
   "outputs": [],
   "source": [
    "class MLPClassification(nn.Module):\n",
    "  def __init__(self,entrada):\n",
    "    super().__init__()\n",
    "\n",
    "\n",
    "    self.layers = nn.Sequential(\n",
    "        nn.Linear(entrada,10),\n",
    "        nn.ReLU(),\n",
    "        nn.Linear(10,1),\n",
    "        nn.Sigmoid()\n",
    "    )\n",
    "  def forward(self,x):\n",
    "    return self.layers(x)"
   ]
  },
  {
   "cell_type": "code",
   "execution_count": 17,
   "metadata": {},
   "outputs": [],
   "source": [
    "\n",
    "entrada = 100*100\n",
    "model = load_model(\"model/10_neuronios.pth\",MLPClassification,entrada).to(\"cuda\")"
   ]
  },
  {
   "cell_type": "code",
   "execution_count": 19,
   "metadata": {},
   "outputs": [],
   "source": [
    "teste = torch.load(\"data/teste.pt\")"
   ]
  },
  {
   "cell_type": "code",
   "execution_count": 21,
   "metadata": {},
   "outputs": [],
   "source": [
    "\n",
    "from torch.utils.data import Dataset, DataLoader"
   ]
  },
  {
   "cell_type": "code",
   "execution_count": 22,
   "metadata": {},
   "outputs": [],
   "source": [
    "class CustomDataset(Dataset):\n",
    "    def __init__(self, data_tensor, transform=None):\n",
    "        self.data = data_tensor\n",
    "        self.transform = transform\n",
    "\n",
    "    def __len__(self):\n",
    "        return len(self.data)\n",
    "\n",
    "    def __getitem__(self, idx):\n",
    "        # Obtendo a imagem (vetor) e o rótulo (target) da linha idx do tensor\n",
    "        image = self.data[idx, 1:-1]\n",
    "        label = self.data[idx, -1].long()\n",
    "\n",
    "        # Aplicando transformações, se necessário\n",
    "        if self.transform:\n",
    "            image = self.transform(image)\n",
    "\n",
    "        return image, label\n"
   ]
  },
  {
   "cell_type": "code",
   "execution_count": 23,
   "metadata": {},
   "outputs": [],
   "source": [
    "dataset_teste = CustomDataset(teste)\n",
    "batch_size = 128  \n",
    "test_dataloader = DataLoader(dataset_teste, batch_size=batch_size, shuffle=True)"
   ]
  },
  {
   "cell_type": "code",
   "execution_count": 29,
   "metadata": {},
   "outputs": [
    {
     "data": {
      "text/plain": [
       "<torch.utils.data.dataloader.DataLoader at 0x7fe6a5af6240>"
      ]
     },
     "execution_count": 29,
     "metadata": {},
     "output_type": "execute_result"
    }
   ],
   "source": [
    "test_dataloader"
   ]
  },
  {
   "cell_type": "code",
   "execution_count": 30,
   "metadata": {},
   "outputs": [],
   "source": [
    "def plot_confusion_matrix(model, dataloader, device, threshold=0.8, classes=['Negativo', 'Positivo'], normalize=False, cmap=plt.cm.Blues):\n",
    "    \"\"\"\n",
    "    Plota a matriz de confusão para um modelo com um DataLoader.\n",
    "\n",
    "    Args:\n",
    "        model (torch.nn.Module): Modelo carregado.\n",
    "        dataloader (torch.utils.data.DataLoader): DataLoader contendo os dados de teste.\n",
    "        device (str): Dispositivo para realizar a inferência ('cpu' ou 'cuda').\n",
    "        threshold (float): Limiar para converter probabilidades em classes binárias.\n",
    "        classes (list): Lista de rótulos das classes.\n",
    "        normalize (bool): Se True, a matriz de confusão será normalizada.\n",
    "        cmap (matplotlib.colors.Colormap): Mapa de cores para a plotagem.\n",
    "\n",
    "    Returns:\n",
    "        None\n",
    "    \"\"\"\n",
    "    model.to(device)\n",
    "    y_true = []\n",
    "    y_pred = []\n",
    "\n",
    "    with torch.no_grad():\n",
    "        for inputs, labels in dataloader:\n",
    "            inputs, labels = inputs.to(device), labels.to(device)\n",
    "            outputs = model(inputs)\n",
    "            probs = torch.sigmoid(outputs)\n",
    "            preds = (probs >= threshold).int().squeeze().cpu().numpy()\n",
    "            y_true.extend(labels.squeeze().cpu().numpy())\n",
    "            y_pred.extend(preds)\n",
    "\n",
    "    cm = confusion_matrix(y_true, y_pred)\n",
    "    if normalize:\n",
    "        cm = cm.astype('float') / cm.sum(axis=1)[:, np.newaxis]\n",
    "\n",
    "    plt.figure(figsize=(8, 6))\n",
    "    sns.heatmap(cm, annot=True, fmt='.2f' if normalize else 'd', cmap=cmap, xticklabels=classes, yticklabels=classes)\n",
    "    plt.title('Matriz de Confusão')\n",
    "    plt.xlabel('Rótulo Previsto')\n",
    "    plt.ylabel('Rótulo Verdadeiro')\n",
    "    plt.show()\n",
    "\n",
    "# Exemplo de uso\n",
    "# Supondo que você tenha o modelo e o DataLoader\n",
    "# Substitua `model`, `test_dataloader` e outros parâmetros conforme necessário\n",
    "\n",
    "# Defina os rótulos das classes\n",
    "classes = ['Negativo', 'Positivo']\n",
    "\n",
    "# Exemplo de uso\n",
    "# Substitua `YourModelClass` pela classe real do seu modelo\n",
    "# model = load_model('model.pth', YourModelClass)\n",
    "# cm = confusion_matrix_from_dataloader(model, test_dataloader, threshold=0.8, device='cuda')\n",
    "# print(cm)\n"
   ]
  },
  {
   "cell_type": "code",
   "execution_count": 35,
   "metadata": {},
   "outputs": [
    {
     "data": {
      "image/png": "[encoded data removed]",
      "text/plain": [
       "<Figure size 800x600 with 2 Axes>"
      ]
     },
     "metadata": {},
     "output_type": "display_data"
    },
    {
     "name": "stdout",
     "output_type": "stream",
     "text": [
      "None\n"
     ]
    }
   ],
   "source": [
    "cm = plot_confusion_matrix(model, test_dataloader, device='cuda', threshold=0.72)\n",
    "print(cm)"
   ]
  }
 ],
 "metadata": {
  "kernelspec": {
   "display_name": "principal",
   "language": "python",
   "name": "python3"
  },
  "language_info": {
   "codemirror_mode": {
    "name": "ipython",
    "version": 3
   },
   "file_extension": ".py",
   "mimetype": "text/x-python",
   "name": "python",
   "nbconvert_exporter": "python",
   "pygments_lexer": "ipython3",
   "version": "3.12.3"
  }
 },
 "nbformat": 4,
 "nbformat_minor": 2
}

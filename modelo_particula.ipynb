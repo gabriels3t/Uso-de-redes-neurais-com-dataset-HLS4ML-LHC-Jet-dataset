{
 "cells": [
  {
   "cell_type": "code",
   "execution_count": 28,
   "metadata": {},
   "outputs": [],
   "source": [
    "import pandas as pd \n",
    "import matplotlib.pyplot as plt\n",
    "import numpy as np \n",
    "import seaborn as sn\n",
    "import torch\n",
    "from sklearn.preprocessing import StandardScaler\n",
    "import joblib"
   ]
  },
  {
   "cell_type": "code",
   "execution_count": 2,
   "metadata": {},
   "outputs": [],
   "source": [
    "treino = torch.load(\"data/treino_particle.pt\")\n",
    "teste = torch.load(\"data/teste_particle.pt\")"
   ]
  },
  {
   "cell_type": "code",
   "execution_count": 3,
   "metadata": {},
   "outputs": [],
   "source": [
    "y_treino = treino[:,-1]\n",
    "y_teste = teste[:,-1]\n",
    "y_treino= y_treino.unsqueeze(1)\n",
    "y_teste= y_teste.unsqueeze(1)\n"
   ]
  },
  {
   "cell_type": "markdown",
   "metadata": {},
   "source": [
    "# Normalizando"
   ]
  },
  {
   "cell_type": "code",
   "execution_count": 4,
   "metadata": {},
   "outputs": [],
   "source": [
    "sc = StandardScaler()\n",
    "treino = torch.tensor(sc.fit_transform(treino[:,0:-1]))\n",
    "teste = torch.tensor(sc.transform(teste[:,0:-1]))\n"
   ]
  },
  {
   "cell_type": "code",
   "execution_count": 29,
   "metadata": {},
   "outputs": [
    {
     "data": {
      "text/plain": [
       "['model/standard_scaler.pkl']"
      ]
     },
     "execution_count": 29,
     "metadata": {},
     "output_type": "execute_result"
    }
   ],
   "source": [
    "joblib.dump(sc, 'model/standard_scaler.pkl')"
   ]
  },
  {
   "cell_type": "code",
   "execution_count": 5,
   "metadata": {},
   "outputs": [
    {
     "data": {
      "text/plain": [
       "tensor([[ 8.5258e+00, -2.1320e+00,  1.1592e+00,  ..., -1.0377e+00,\n",
       "          3.3189e-01, -3.6683e-04],\n",
       "        [ 2.9171e+00, -7.0611e-01,  3.9046e-01,  ..., -1.0078e+00,\n",
       "          3.2751e-01, -8.8207e-02],\n",
       "        [ 1.1627e+00, -3.1539e-01,  1.5021e-01,  ..., -7.8171e-01,\n",
       "          3.1434e-01,  3.1148e-02],\n",
       "        ...,\n",
       "        [ 1.7953e-02,  6.1805e-02,  2.7225e-02,  ...,  1.7351e+00,\n",
       "          9.3018e-01,  2.8682e-01],\n",
       "        [ 2.4212e-02,  4.6964e-02,  2.7001e-02,  ..., -3.4784e-01,\n",
       "          1.0628e+00, -8.6251e-01],\n",
       "        [ 2.2772e-02,  4.5422e-02,  2.7330e-02,  ..., -7.3777e-01,\n",
       "          1.0985e+00, -4.5579e-01]], dtype=torch.float64)"
      ]
     },
     "execution_count": 5,
     "metadata": {},
     "output_type": "execute_result"
    }
   ],
   "source": [
    "treino"
   ]
  },
  {
   "cell_type": "code",
   "execution_count": 6,
   "metadata": {},
   "outputs": [],
   "source": [
    "treino = torch.cat((treino, y_treino), dim=1)\n",
    "teste = torch.cat((teste, y_teste), dim=1)\n"
   ]
  },
  {
   "cell_type": "code",
   "execution_count": 7,
   "metadata": {},
   "outputs": [
    {
     "data": {
      "text/plain": [
       "tensor([[ 1.8510e+00,  3.5175e-01, -4.9835e-01,  ..., -6.3339e-01,\n",
       "         -3.6683e-04,  0.0000e+00],\n",
       "        [ 1.5011e+00,  5.5132e-01, -4.3908e-01,  ..., -6.5443e-01,\n",
       "         -3.6683e-04,  0.0000e+00],\n",
       "        [ 1.1895e+00,  4.3103e-01, -3.6678e-01,  ..., -6.8592e-01,\n",
       "         -2.9363e-01,  0.0000e+00],\n",
       "        ...,\n",
       "        [-4.8097e-02, -3.2552e-02,  2.6035e-02,  ...,  9.6303e-01,\n",
       "          2.2637e-01,  1.0000e+00],\n",
       "        [-5.0006e-02, -2.6005e-02,  2.8216e-02,  ...,  1.0395e+00,\n",
       "         -2.8387e-01,  1.0000e+00],\n",
       "        [-2.2041e-02, -1.1962e-02,  1.3026e-02,  ...,  1.0576e+00,\n",
       "         -5.3961e-01,  1.0000e+00]], dtype=torch.float64)"
      ]
     },
     "execution_count": 7,
     "metadata": {},
     "output_type": "execute_result"
    }
   ],
   "source": [
    "teste"
   ]
  },
  {
   "cell_type": "markdown",
   "metadata": {},
   "source": [
    "# DataLoader"
   ]
  },
  {
   "cell_type": "code",
   "execution_count": 8,
   "metadata": {},
   "outputs": [],
   "source": [
    "from torch.utils.data import Dataset, DataLoader"
   ]
  },
  {
   "cell_type": "code",
   "execution_count": 9,
   "metadata": {},
   "outputs": [],
   "source": [
    "class CustomDataset(Dataset):\n",
    "    def __init__(self, data_tensor, transform=None):\n",
    "        self.data = data_tensor\n",
    "        self.transform = transform\n",
    "\n",
    "    def __len__(self):\n",
    "        return len(self.data)\n",
    "\n",
    "    def __getitem__(self, idx):\n",
    "        # Obtendo as features e a label (target) da linha idx do tensor\n",
    "        image = self.data[idx, 0:-1]\n",
    "        label = self.data[idx, -1].long()\n",
    "\n",
    "        # Aplicando transformações, se necessário\n",
    "        if self.transform:\n",
    "            image = self.transform(image)\n",
    "\n",
    "        return image, label\n"
   ]
  },
  {
   "cell_type": "code",
   "execution_count": 10,
   "metadata": {},
   "outputs": [],
   "source": [
    "dataset_treino = CustomDataset(treino)\n",
    "dataset_teste = CustomDataset(teste)"
   ]
  },
  {
   "cell_type": "code",
   "execution_count": 27,
   "metadata": {},
   "outputs": [
    {
     "data": {
      "text/plain": [
       "(tensor([ 2.9171, -0.7061,  0.3905,  1.1941,  1.5284,  1.8736,  1.5322,  0.2422,\n",
       "         -0.0956, -0.0864, -0.1327,  0.0454,  0.5499, -1.0078,  0.3275, -0.0882],\n",
       "        dtype=torch.float64),\n",
       " tensor(0))"
      ]
     },
     "execution_count": 27,
     "metadata": {},
     "output_type": "execute_result"
    }
   ],
   "source": [
    "dataset_treino.__getitem__(1)"
   ]
  },
  {
   "cell_type": "markdown",
   "metadata": {},
   "source": [
    "## Treino"
   ]
  },
  {
   "cell_type": "code",
   "execution_count": 12,
   "metadata": {},
   "outputs": [],
   "source": [
    "batch_size = 128  \n",
    "train_dataloader = DataLoader(dataset_treino, batch_size=batch_size, shuffle=True)"
   ]
  },
  {
   "cell_type": "markdown",
   "metadata": {},
   "source": [
    "## Teste"
   ]
  },
  {
   "cell_type": "code",
   "execution_count": 13,
   "metadata": {},
   "outputs": [],
   "source": [
    "batch_size = 128  \n",
    "test_dataloader = DataLoader(dataset_teste, batch_size=batch_size, shuffle=True)"
   ]
  },
  {
   "cell_type": "markdown",
   "metadata": {},
   "source": [
    "# Modelo"
   ]
  },
  {
   "cell_type": "code",
   "execution_count": 14,
   "metadata": {},
   "outputs": [],
   "source": [
    "from torch import nn"
   ]
  },
  {
   "cell_type": "code",
   "execution_count": 15,
   "metadata": {},
   "outputs": [],
   "source": [
    "class MLPClassification(nn.Module):\n",
    "  def __init__(self,entrada):\n",
    "    super().__init__()\n",
    "    self.layers = nn.Sequential(\n",
    "        nn.Linear(entrada,1000),\n",
    "        nn.ReLU(),\n",
    "        nn.Linear(1000,500),\n",
    "        nn.ReLU(),\n",
    "        nn.Linear(500,250),\n",
    "        nn.ReLU(),\n",
    "        nn.Linear(250,10),\n",
    "        nn.ReLU(),\n",
    "        nn.Linear(10,1),\n",
    "        nn.Sigmoid()\n",
    "    )\n",
    "  def forward(self,x):\n",
    "    return self.layers(x)"
   ]
  },
  {
   "cell_type": "code",
   "execution_count": 16,
   "metadata": {},
   "outputs": [
    {
     "data": {
      "text/plain": [
       "'cuda'"
      ]
     },
     "execution_count": 16,
     "metadata": {},
     "output_type": "execute_result"
    }
   ],
   "source": [
    "entrada = 16 \n",
    "device = \"cuda\" if torch.cuda.is_available() else \"cpu\"\n",
    "device"
   ]
  },
  {
   "cell_type": "code",
   "execution_count": 17,
   "metadata": {},
   "outputs": [],
   "source": [
    "model = MLPClassification(entrada).to(device)"
   ]
  },
  {
   "cell_type": "code",
   "execution_count": 18,
   "metadata": {},
   "outputs": [
    {
     "data": {
      "text/plain": [
       "MLPClassification(\n",
       "  (layers): Sequential(\n",
       "    (0): Linear(in_features=16, out_features=1000, bias=True)\n",
       "    (1): ReLU()\n",
       "    (2): Linear(in_features=1000, out_features=500, bias=True)\n",
       "    (3): ReLU()\n",
       "    (4): Linear(in_features=500, out_features=250, bias=True)\n",
       "    (5): ReLU()\n",
       "    (6): Linear(in_features=250, out_features=10, bias=True)\n",
       "    (7): ReLU()\n",
       "    (8): Linear(in_features=10, out_features=1, bias=True)\n",
       "    (9): Sigmoid()\n",
       "  )\n",
       ")"
      ]
     },
     "execution_count": 18,
     "metadata": {},
     "output_type": "execute_result"
    }
   ],
   "source": [
    "model"
   ]
  },
  {
   "cell_type": "markdown",
   "metadata": {},
   "source": [
    "# Função de Custo"
   ]
  },
  {
   "cell_type": "code",
   "execution_count": 19,
   "metadata": {},
   "outputs": [],
   "source": [
    "optimizer = torch.optim.Adam(model.parameters(),lr=1e-3)\n",
    "#lossfunction = nn.BCEWithLogitsLoss()\n",
    "lossfunction = nn.BCELoss()"
   ]
  },
  {
   "cell_type": "markdown",
   "metadata": {},
   "source": [
    "# Função Treino e Teste"
   ]
  },
  {
   "cell_type": "code",
   "execution_count": 20,
   "metadata": {},
   "outputs": [],
   "source": [
    "def train(modelo,dataloader,funcao_de_custo,otimizador):\n",
    "  modelo.train() # praparado para ser treinado\n",
    "  erro_acumulativo = 0.0\n",
    "  for _, (data, target) in enumerate(dataloader):\n",
    "    target, datas =  target.float().to(device), data.float().to(device)\n",
    "    pred = modelo(datas)\n",
    "    perda = funcao_de_custo(pred,target.unsqueeze(1).to(device))\n",
    "\n",
    "    otimizador.zero_grad() # zero os gradientes acumulados\n",
    "    perda.backward() #Calculo da gradiente\n",
    "    otimizador.step() # anda para a direção de menos erro\n",
    "\n",
    "    erro_acumulativo += perda.item()\n",
    "  return erro_acumulativo/len(dataloader)\n",
    "\n",
    "\n",
    "def test(modelo, dataloader, funcao_de_custo):\n",
    "    modelo.eval()  \n",
    "    total_acertos = 0\n",
    "    total_exemplos = 0\n",
    "    total_loss = 0.0\n",
    "\n",
    "    with torch.no_grad():  \n",
    "        for _, (data, target) in enumerate(dataloader):\n",
    "            target, datas = target.float().to(device), data.float().to(device)\n",
    "\n",
    "            pred = modelo(datas)\n",
    "            loss = funcao_de_custo(pred, target.unsqueeze(1).to(device))\n",
    "\n",
    "            # Arredonda as previsões para o valor mais próximo (0 ou 1)\n",
    "            pred_labels = torch.round(pred)\n",
    "\n",
    "            # Calcula o número de acertos\n",
    "            total_acertos += (pred_labels == target.unsqueeze(1).to(device)).sum().item()\n",
    "            total_exemplos += target.size(0)\n",
    "            total_loss += loss.item()\n",
    "\n",
    "    #accuracy = total_acertos / total_exemplos\n",
    "    avg_loss = total_loss / len(dataloader)\n",
    "\n",
    "    return  avg_loss"
   ]
  },
  {
   "cell_type": "markdown",
   "metadata": {},
   "source": [
    "# Treinando o Modelo"
   ]
  },
  {
   "cell_type": "code",
   "execution_count": 21,
   "metadata": {},
   "outputs": [
    {
     "name": "stdout",
     "output_type": "stream",
     "text": [
      "Epoca 0; erro : 0.4173407023010254\n",
      "Epoca 100; erro : 0.3924304985870785\n",
      "erro : 0.4166505409276807\n"
     ]
    }
   ],
   "source": [
    "vezes_treinando = 150\n",
    "for t in range(vezes_treinando):\n",
    "  train_erro = train(model,train_dataloader,lossfunction,optimizer)\n",
    "  if t %100 ==0:\n",
    "    print(f\"Epoca {t}; erro : {train_erro}\")\n",
    "  test_erro = test(model,test_dataloader,lossfunction)\n",
    "print(f\"erro : {test_erro}\")"
   ]
  },
  {
   "cell_type": "code",
   "execution_count": 22,
   "metadata": {},
   "outputs": [],
   "source": [
    "caminho_arquivo = 'model/1760_neuronios_adam_normalizado.pth'\n",
    "\n",
    "# Salvar o modelo\n",
    "torch.save(model.state_dict(), caminho_arquivo)"
   ]
  },
  {
   "cell_type": "markdown",
   "metadata": {},
   "source": [
    "# Metricas"
   ]
  },
  {
   "cell_type": "code",
   "execution_count": 23,
   "metadata": {},
   "outputs": [],
   "source": [
    "import numpy as np\n",
    "from sklearn.metrics import roc_curve, auc\n",
    "import matplotlib.pyplot as plt\n",
    "\n",
    "def plot_roc_curve(modelo, dataloader):\n",
    "    modelo.eval()  # Define o modelo para o modo de avaliação\n",
    "    all_labels = []\n",
    "    all_probs = []\n",
    "\n",
    "    with torch.no_grad():  # Desliga o cálculo de gradientes para economizar memória e acelerar o processo\n",
    "        for _, (data, target) in enumerate(dataloader):\n",
    "            target, imgs = target.float().to(device), data.float().to(device)\n",
    "\n",
    "            pred_probs = torch.sigmoid(modelo(imgs)).cpu().numpy()  # Probabilidades previstas pelo modelo\n",
    "            all_probs.extend(pred_probs)\n",
    "            all_labels.extend(target.cpu().numpy())\n",
    "\n",
    "    fpr, tpr, thresholds = roc_curve(all_labels, all_probs)\n",
    "    roc_auc = auc(fpr, tpr)\n",
    "\n",
    "    plt.figure()\n",
    "    lw = 2\n",
    "    plt.plot(fpr, tpr, color='darkorange',\n",
    "             lw=lw, label='ROC curve (area = %0.2f)' % roc_auc)\n",
    "    plt.plot([0, 1], [0, 1], color='navy', lw=lw, linestyle='--')\n",
    "    plt.xlim([0.0, 1.0])\n",
    "    plt.ylim([0.0, 1.05])\n",
    "    plt.xlabel('False Positive Rate')\n",
    "    plt.ylabel('True Positive Rate')\n",
    "    plt.title('Receiver Operating Characteristic (ROC)')\n",
    "    plt.legend(loc=\"lower right\")\n",
    "    plt.show()\n",
    "\n"
   ]
  },
  {
   "cell_type": "code",
   "execution_count": 24,
   "metadata": {},
   "outputs": [
    {
     "data": {
      "image/png": "[encoded data removed]",
      "text/plain": [
       "<Figure size 640x480 with 1 Axes>"
      ]
     },
     "metadata": {},
     "output_type": "display_data"
    }
   ],
   "source": [
    "plot_roc_curve(model, test_dataloader)"
   ]
  },
  {
   "cell_type": "code",
   "execution_count": null,
   "metadata": {},
   "outputs": [],
   "source": []
  },
  {
   "cell_type": "code",
   "execution_count": 25,
   "metadata": {},
   "outputs": [
    {
     "data": {
      "image/png": "[encoded data removed]",
      "text/plain": [
       "<Figure size 640x480 with 1 Axes>"
      ]
     },
     "metadata": {},
     "output_type": "display_data"
    }
   ],
   "source": [
    "plot_roc_curve(model, train_dataloader)"
   ]
  }
 ],
 "metadata": {
  "kernelspec": {
   "display_name": "principal",
   "language": "python",
   "name": "python3"
  },
  "language_info": {
   "codemirror_mode": {
    "name": "ipython",
    "version": 3
   },
   "file_extension": ".py",
   "mimetype": "text/x-python",
   "name": "python",
   "nbconvert_exporter": "python",
   "pygments_lexer": "ipython3",
   "version": "3.12.3"
  }
 },
 "nbformat": 4,
 "nbformat_minor": 2
}

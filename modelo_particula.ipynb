{
 "cells": [
  {
   "cell_type": "code",
   "execution_count": 1,
   "metadata": {},
   "outputs": [],
   "source": [
    "import pandas as pd \n",
    "import matplotlib.pyplot as plt\n",
    "import numpy as np \n",
    "import seaborn as sn\n",
    "import torch"
   ]
  },
  {
   "cell_type": "code",
   "execution_count": 2,
   "metadata": {},
   "outputs": [],
   "source": [
    "treino = torch.load(\"data/treino_particle.pt\")\n",
    "teste = torch.load(\"data/teste_particle.pt\")"
   ]
  },
  {
   "cell_type": "code",
   "execution_count": 22,
   "metadata": {},
   "outputs": [
    {
     "data": {
      "text/plain": [
       "torch.Size([18000000, 17])"
      ]
     },
     "execution_count": 22,
     "metadata": {},
     "output_type": "execute_result"
    }
   ],
   "source": [
    "treino.shape"
   ]
  },
  {
   "cell_type": "markdown",
   "metadata": {},
   "source": [
    "# DataLoader"
   ]
  },
  {
   "cell_type": "code",
   "execution_count": 25,
   "metadata": {},
   "outputs": [],
   "source": [
    "\n",
    "from torch.utils.data import Dataset, DataLoader"
   ]
  },
  {
   "cell_type": "code",
   "execution_count": 28,
   "metadata": {},
   "outputs": [],
   "source": [
    "class CustomDataset(Dataset):\n",
    "    def __init__(self, data_tensor, transform=None):\n",
    "        self.data = data_tensor\n",
    "        self.transform = transform\n",
    "\n",
    "    def __len__(self):\n",
    "        return len(self.data)\n",
    "\n",
    "    def __getitem__(self, idx):\n",
    "        # Obtendo as features e a label (target) da linha idx do tensor\n",
    "        image = self.data[idx, 0:-1]\n",
    "        label = self.data[idx, -1].long()\n",
    "\n",
    "        # Aplicando transformações, se necessário\n",
    "        if self.transform:\n",
    "            image = self.transform(image)\n",
    "\n",
    "        return image, label\n"
   ]
  },
  {
   "cell_type": "code",
   "execution_count": 29,
   "metadata": {},
   "outputs": [],
   "source": [
    "dataset_treino = CustomDataset(treino)\n",
    "dataset_teste = CustomDataset(teste)"
   ]
  },
  {
   "cell_type": "markdown",
   "metadata": {},
   "source": [
    "## Treino"
   ]
  },
  {
   "cell_type": "code",
   "execution_count": 30,
   "metadata": {},
   "outputs": [],
   "source": [
    "batch_size = 128  \n",
    "train_dataloader = DataLoader(dataset_treino, batch_size=batch_size, shuffle=True)"
   ]
  },
  {
   "cell_type": "markdown",
   "metadata": {},
   "source": [
    "## Teste"
   ]
  },
  {
   "cell_type": "code",
   "execution_count": 31,
   "metadata": {},
   "outputs": [],
   "source": [
    "batch_size = 128  \n",
    "test_dataloader = DataLoader(dataset_teste, batch_size=batch_size, shuffle=True)"
   ]
  },
  {
   "cell_type": "markdown",
   "metadata": {},
   "source": [
    "# Modelo"
   ]
  },
  {
   "cell_type": "code",
   "execution_count": 32,
   "metadata": {},
   "outputs": [],
   "source": [
    "from torch import nn"
   ]
  },
  {
   "cell_type": "code",
   "execution_count": 33,
   "metadata": {},
   "outputs": [],
   "source": [
    "class MLPClassification(nn.Module):\n",
    "  def __init__(self,entrada):\n",
    "    super().__init__()\n",
    "\n",
    "\n",
    "    self.layers = nn.Sequential(\n",
    "        nn.Linear(entrada,10),\n",
    "        nn.ReLU(),\n",
    "        nn.Linear(10,1),\n",
    "        nn.Sigmoid()\n",
    "    )\n",
    "  def forward(self,x):\n",
    "    return self.layers(x)"
   ]
  },
  {
   "cell_type": "code",
   "execution_count": 35,
   "metadata": {},
   "outputs": [
    {
     "data": {
      "text/plain": [
       "'cuda'"
      ]
     },
     "execution_count": 35,
     "metadata": {},
     "output_type": "execute_result"
    }
   ],
   "source": [
    "entrada = 16 \n",
    "device = \"cuda\" if torch.cuda.is_available() else \"cpu\"\n",
    "device"
   ]
  },
  {
   "cell_type": "code",
   "execution_count": 36,
   "metadata": {},
   "outputs": [],
   "source": [
    "model = MLPClassification(entrada).to(device)"
   ]
  },
  {
   "cell_type": "code",
   "execution_count": 37,
   "metadata": {},
   "outputs": [
    {
     "data": {
      "text/plain": [
       "MLPClassification(\n",
       "  (layers): Sequential(\n",
       "    (0): Linear(in_features=16, out_features=10, bias=True)\n",
       "    (1): ReLU()\n",
       "    (2): Linear(in_features=10, out_features=1, bias=True)\n",
       "    (3): Sigmoid()\n",
       "  )\n",
       ")"
      ]
     },
     "execution_count": 37,
     "metadata": {},
     "output_type": "execute_result"
    }
   ],
   "source": [
    "model"
   ]
  },
  {
   "cell_type": "markdown",
   "metadata": {},
   "source": [
    "# Função de Custo"
   ]
  },
  {
   "cell_type": "code",
   "execution_count": 38,
   "metadata": {},
   "outputs": [],
   "source": [
    "optimizer = torch.optim.SGD(model.parameters(),lr=1e-3)\n",
    "#lossfunction = nn.BCEWithLogitsLoss()\n",
    "lossfunction = nn.BCELoss()"
   ]
  },
  {
   "cell_type": "markdown",
   "metadata": {},
   "source": [
    "# Função Treino e Teste"
   ]
  },
  {
   "cell_type": "code",
   "execution_count": 42,
   "metadata": {},
   "outputs": [],
   "source": [
    "def train(modelo,dataloader,funcao_de_custo,otimizador):\n",
    "  modelo.train() # praparado para ser treinado\n",
    "  erro_acumulativo = 0.0\n",
    "  for _, (data, target) in enumerate(dataloader):\n",
    "    target, datas =  target.float().to(device), data.to(device)\n",
    "\n",
    "    pred = modelo(datas)\n",
    "    perda = funcao_de_custo(pred,target.unsqueeze(1).to(device))\n",
    "\n",
    "    otimizador.zero_grad() # zero os gradientes acumulados\n",
    "    perda.backward() #Calculo da gradiente\n",
    "    otimizador.step() # anda para a direção de menos erro\n",
    "\n",
    "    erro_acumulativo += perda.item()\n",
    "  return erro_acumulativo/len(dataloader)\n",
    "\n",
    "\n",
    "def test(modelo, dataloader, funcao_de_custo):\n",
    "    modelo.eval()  \n",
    "    total_acertos = 0\n",
    "    total_exemplos = 0\n",
    "    total_loss = 0.0\n",
    "\n",
    "    with torch.no_grad():  \n",
    "        for _, (data, target) in enumerate(dataloader):\n",
    "            target, datas = target.float().to(device), data.to(device)\n",
    "\n",
    "            pred = modelo(datas)\n",
    "            loss = funcao_de_custo(pred, target.unsqueeze(1).to(device))\n",
    "\n",
    "            # Arredonda as previsões para o valor mais próximo (0 ou 1)\n",
    "            pred_labels = torch.round(pred)\n",
    "\n",
    "            # Calcula o número de acertos\n",
    "            total_acertos += (pred_labels == target.unsqueeze(1).to(device)).sum().item()\n",
    "            total_exemplos += target.size(0)\n",
    "            total_loss += loss.item()\n",
    "\n",
    "    #accuracy = total_acertos / total_exemplos\n",
    "    avg_loss = total_loss / len(dataloader)\n",
    "\n",
    "    return  avg_loss"
   ]
  },
  {
   "cell_type": "markdown",
   "metadata": {},
   "source": [
    "# Treiando o Modelo"
   ]
  },
  {
   "cell_type": "code",
   "execution_count": 43,
   "metadata": {},
   "outputs": [
    {
     "name": "stdout",
     "output_type": "stream",
     "text": [
      "Epoca 0; erro : 0.5055258622425927\n",
      "Epoca 100; erro : 0.4959698182900747\n"
     ]
    }
   ],
   "source": [
    "vezes_treinando = 150\n",
    "train_losses = []\n",
    "test_losses = []\n",
    "for t in range(vezes_treinando):\n",
    "  train_erro = train(model,train_dataloader,lossfunction,optimizer)\n",
    "  train_losses.append(train_erro)\n",
    "  if t %100 ==0:\n",
    "    print(f\"Epoca {t}; erro : {train_erro}\")\n",
    "  test_erro = test(model,test_dataloader,lossfunction)\n",
    "  test_losses.append(test_erro)\n",
    "print(f\"erro : {test_erro}\")"
   ]
  },
  {
   "cell_type": "markdown",
   "metadata": {},
   "source": [
    "# Metricas"
   ]
  },
  {
   "cell_type": "code",
   "execution_count": 1,
   "metadata": {},
   "outputs": [],
   "source": [
    "import numpy as np\n",
    "from sklearn.metrics import roc_curve, auc\n",
    "import matplotlib.pyplot as plt\n",
    "\n",
    "def plot_roc_curve(modelo, dataloader):\n",
    "    modelo.eval()  # Define o modelo para o modo de avaliação\n",
    "    all_labels = []\n",
    "    all_probs = []\n",
    "\n",
    "    with torch.no_grad():  # Desliga o cálculo de gradientes para economizar memória e acelerar o processo\n",
    "        for _, (data, target) in enumerate(dataloader):\n",
    "            target, imgs = target.float().to(device), data.to(device)\n",
    "\n",
    "            pred_probs = torch.sigmoid(modelo(imgs)).cpu().numpy()  # Probabilidades previstas pelo modelo\n",
    "            all_probs.extend(pred_probs)\n",
    "            all_labels.extend(target.cpu().numpy())\n",
    "\n",
    "    fpr, tpr, thresholds = roc_curve(all_labels, all_probs)\n",
    "    roc_auc = auc(fpr, tpr)\n",
    "\n",
    "    plt.figure()\n",
    "    lw = 2\n",
    "    plt.plot(fpr, tpr, color='darkorange',\n",
    "             lw=lw, label='ROC curve (area = %0.2f)' % roc_auc)\n",
    "    plt.plot([0, 1], [0, 1], color='navy', lw=lw, linestyle='--')\n",
    "    plt.xlim([0.0, 1.0])\n",
    "    plt.ylim([0.0, 1.05])\n",
    "    plt.xlabel('False Positive Rate')\n",
    "    plt.ylabel('True Positive Rate')\n",
    "    plt.title('Receiver Operating Characteristic (ROC)')\n",
    "    plt.legend(loc=\"lower right\")\n",
    "    plt.show()\n",
    "\n"
   ]
  },
  {
   "cell_type": "code",
   "execution_count": 2,
   "metadata": {},
   "outputs": [
    {
     "ename": "NameError",
     "evalue": "name 'model' is not defined",
     "output_type": "error",
     "traceback": [
      "\u001b[0;31m---------------------------------------------------------------------------\u001b[0m",
      "\u001b[0;31mNameError\u001b[0m                                 Traceback (most recent call last)",
      "Cell \u001b[0;32mIn[2], line 1\u001b[0m\n\u001b[0;32m----> 1\u001b[0m plot_roc_curve(\u001b[43mmodel\u001b[49m, test_dataloader)\n",
      "\u001b[0;31mNameError\u001b[0m: name 'model' is not defined"
     ]
    }
   ],
   "source": [
    "plot_roc_curve(model, test_dataloader)"
   ]
  }
 ],
 "metadata": {
  "kernelspec": {
   "display_name": "principal",
   "language": "python",
   "name": "python3"
  },
  "language_info": {
   "codemirror_mode": {
    "name": "ipython",
    "version": 3
   },
   "file_extension": ".py",
   "mimetype": "text/x-python",
   "name": "python",
   "nbconvert_exporter": "python",
   "pygments_lexer": "ipython3",
   "version": "3.12.3"
  }
 },
 "nbformat": 4,
 "nbformat_minor": 2
}

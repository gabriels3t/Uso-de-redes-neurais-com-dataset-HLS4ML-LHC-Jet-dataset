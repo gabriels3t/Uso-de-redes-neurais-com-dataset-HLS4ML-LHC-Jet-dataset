{
 "cells": [
  {
   "cell_type": "code",
   "execution_count": 37,
   "metadata": {},
   "outputs": [],
   "source": [
    "import pandas as pd \n",
    "import matplotlib.pyplot as plt\n",
    "import numpy as np \n",
    "import seaborn as sn\n",
    "import torch\n",
    "from sklearn.preprocessing import StandardScaler"
   ]
  },
  {
   "cell_type": "code",
   "execution_count": 38,
   "metadata": {},
   "outputs": [],
   "source": [
    "treino = torch.load(\"data/treino_particle.pt\")\n",
    "teste = torch.load(\"data/teste_particle.pt\")"
   ]
  },
  {
   "cell_type": "code",
   "execution_count": 39,
   "metadata": {},
   "outputs": [
    {
     "data": {
      "text/plain": [
       "'\\ny_treino = treino[:,-1]\\ny_teste = teste[:,-1]\\ny_treino= y_treino.unsqueeze(1)\\ny_teste= y_teste.unsqueeze(1)\\n'"
      ]
     },
     "execution_count": 39,
     "metadata": {},
     "output_type": "execute_result"
    }
   ],
   "source": [
    "'''\n",
    "y_treino = treino[:,-1]\n",
    "y_teste = teste[:,-1]\n",
    "y_treino= y_treino.unsqueeze(1)\n",
    "y_teste= y_teste.unsqueeze(1)\n",
    "'''"
   ]
  },
  {
   "cell_type": "markdown",
   "metadata": {},
   "source": [
    "# Normalizando"
   ]
  },
  {
   "cell_type": "code",
   "execution_count": 40,
   "metadata": {},
   "outputs": [
    {
     "data": {
      "text/plain": [
       "'\\nsc = StandardScaler()\\ntreino = torch.tensor(sc.fit_transform(treino[:,0:-1]))\\nteste = torch.tensor(sc.transform(teste[:,0:-1]))\\n'"
      ]
     },
     "execution_count": 40,
     "metadata": {},
     "output_type": "execute_result"
    }
   ],
   "source": [
    "'''\n",
    "sc = StandardScaler()\n",
    "treino = torch.tensor(sc.fit_transform(treino[:,0:-1]))\n",
    "teste = torch.tensor(sc.transform(teste[:,0:-1]))\n",
    "'''"
   ]
  },
  {
   "cell_type": "code",
   "execution_count": 41,
   "metadata": {},
   "outputs": [
    {
     "data": {
      "text/plain": [
       "tensor([[ 3.9160e+02, -9.7961e+01,  7.5106e+01,  ...,  1.8292e-01,\n",
       "          6.1232e-17,  0.0000e+00],\n",
       "        [ 1.3397e+02, -3.2448e+01,  2.5297e+01,  ...,  1.8050e-01,\n",
       "         -6.1123e-03,  0.0000e+00],\n",
       "        [ 5.3386e+01, -1.4496e+01,  9.7303e+00,  ...,  1.7324e-01,\n",
       "          2.1929e-03,  0.0000e+00],\n",
       "        ...,\n",
       "        [ 8.0492e-01,  2.8352e+00,  1.7614e+00,  ...,  5.1301e-01,\n",
       "          1.9984e-02,  1.0000e+00],\n",
       "        [ 1.0924e+00,  2.1532e+00,  1.7469e+00,  ...,  5.8618e-01,\n",
       "         -5.9991e-02,  1.0000e+00],\n",
       "        [ 1.0263e+00,  2.0824e+00,  1.7682e+00,  ...,  6.0591e-01,\n",
       "         -3.1690e-02,  1.0000e+00]])"
      ]
     },
     "execution_count": 41,
     "metadata": {},
     "output_type": "execute_result"
    }
   ],
   "source": [
    "treino"
   ]
  },
  {
   "cell_type": "code",
   "execution_count": 42,
   "metadata": {},
   "outputs": [
    {
     "data": {
      "text/plain": [
       "'\\ntreino = torch.cat((treino, y_treino), dim=1)\\nteste = torch.cat((teste, y_teste), dim=1)\\n'"
      ]
     },
     "execution_count": 42,
     "metadata": {},
     "output_type": "execute_result"
    }
   ],
   "source": [
    "'''\n",
    "treino = torch.cat((treino, y_treino), dim=1)\n",
    "teste = torch.cat((teste, y_teste), dim=1)\n",
    "'''"
   ]
  },
  {
   "cell_type": "code",
   "execution_count": 43,
   "metadata": {},
   "outputs": [
    {
     "data": {
      "text/plain": [
       "tensor([[ 8.5004e+01,  1.6157e+01, -3.2293e+01,  ..., -3.4966e-01,\n",
       "          6.1232e-17,  0.0000e+00],\n",
       "        [ 6.8933e+01,  2.5327e+01, -2.8452e+01,  ..., -3.6126e-01,\n",
       "         -3.7135e-15,  0.0000e+00],\n",
       "        [ 5.4621e+01,  1.9800e+01, -2.3768e+01,  ..., -3.7864e-01,\n",
       "         -2.0406e-02,  0.0000e+00],\n",
       "        ...,\n",
       "        [-2.2290e+00, -1.5002e+00,  1.6843e+00,  ...,  5.3114e-01,\n",
       "          1.5777e-02,  1.0000e+00],\n",
       "        [-2.3167e+00, -1.1995e+00,  1.8256e+00,  ...,  5.7335e-01,\n",
       "         -1.9727e-02,  1.0000e+00],\n",
       "        [-1.0322e+00, -5.5420e-01,  8.4138e-01,  ...,  5.8333e-01,\n",
       "         -3.7522e-02,  1.0000e+00]])"
      ]
     },
     "execution_count": 43,
     "metadata": {},
     "output_type": "execute_result"
    }
   ],
   "source": [
    "teste"
   ]
  },
  {
   "cell_type": "markdown",
   "metadata": {},
   "source": [
    "# DataLoader"
   ]
  },
  {
   "cell_type": "code",
   "execution_count": 44,
   "metadata": {},
   "outputs": [],
   "source": [
    "from torch.utils.data import Dataset, DataLoader"
   ]
  },
  {
   "cell_type": "code",
   "execution_count": 45,
   "metadata": {},
   "outputs": [],
   "source": [
    "class CustomDataset(Dataset):\n",
    "    def __init__(self, data_tensor, transform=None):\n",
    "        self.data = data_tensor\n",
    "        self.transform = transform\n",
    "\n",
    "    def __len__(self):\n",
    "        return len(self.data)\n",
    "\n",
    "    def __getitem__(self, idx):\n",
    "        # Obtendo as features e a label (target) da linha idx do tensor\n",
    "        image = self.data[idx, 0:-1]\n",
    "        label = self.data[idx, -1].long()\n",
    "\n",
    "        # Aplicando transformações, se necessário\n",
    "        if self.transform:\n",
    "            image = self.transform(image)\n",
    "\n",
    "        return image, label\n"
   ]
  },
  {
   "cell_type": "code",
   "execution_count": 46,
   "metadata": {},
   "outputs": [],
   "source": [
    "dataset_treino = CustomDataset(treino)\n",
    "dataset_teste = CustomDataset(teste)"
   ]
  },
  {
   "cell_type": "code",
   "execution_count": 47,
   "metadata": {},
   "outputs": [
    {
     "data": {
      "text/plain": [
       "(tensor([ 1.3397e+02, -3.2448e+01,  2.5297e+01,  1.4015e+02,  1.1261e-01,\n",
       "          1.3785e+02,  1.1308e-01,  1.8250e-01, -8.5472e-03, -6.1123e-03,\n",
       "         -2.3762e-01,  4.0606e-03, -5.0193e-03,  9.4628e-03,  1.8050e-01,\n",
       "         -6.1123e-03]),\n",
       " tensor(0))"
      ]
     },
     "execution_count": 47,
     "metadata": {},
     "output_type": "execute_result"
    }
   ],
   "source": [
    "dataset_treino.__getitem__(1)"
   ]
  },
  {
   "cell_type": "markdown",
   "metadata": {},
   "source": [
    "## Treino"
   ]
  },
  {
   "cell_type": "code",
   "execution_count": 48,
   "metadata": {},
   "outputs": [],
   "source": [
    "batch_size = 128  \n",
    "train_dataloader = DataLoader(dataset_treino, batch_size=batch_size, shuffle=True)"
   ]
  },
  {
   "cell_type": "markdown",
   "metadata": {},
   "source": [
    "## Teste"
   ]
  },
  {
   "cell_type": "code",
   "execution_count": 49,
   "metadata": {},
   "outputs": [],
   "source": [
    "batch_size = 128  \n",
    "test_dataloader = DataLoader(dataset_teste, batch_size=batch_size, shuffle=True)"
   ]
  },
  {
   "cell_type": "markdown",
   "metadata": {},
   "source": [
    "# Modelo"
   ]
  },
  {
   "cell_type": "code",
   "execution_count": 50,
   "metadata": {},
   "outputs": [],
   "source": [
    "from torch import nn"
   ]
  },
  {
   "cell_type": "code",
   "execution_count": 51,
   "metadata": {},
   "outputs": [],
   "source": [
    "class MLPClassification(nn.Module):\n",
    "  def __init__(self,entrada):\n",
    "    super().__init__()\n",
    "    self.layers = nn.Sequential(\n",
    "        nn.Linear(entrada,1300),\n",
    "        nn.ReLU(),\n",
    "        nn.Linear(1300,700),\n",
    "        nn.ReLU(),\n",
    "        nn.Linear(700,350),\n",
    "        nn.ReLU(),\n",
    "        nn.Linear(350,200),\n",
    "        nn.ReLU(),\n",
    "        nn.Linear(200,50),\n",
    "        nn.ReLU(),\n",
    "        nn.Linear(50,1),\n",
    "        nn.Sigmoid()\n",
    "    )\n",
    "  def forward(self,x):\n",
    "    return self.layers(x)\n",
    "  "
   ]
  },
  {
   "cell_type": "code",
   "execution_count": 52,
   "metadata": {},
   "outputs": [
    {
     "data": {
      "text/plain": [
       "'cuda'"
      ]
     },
     "execution_count": 52,
     "metadata": {},
     "output_type": "execute_result"
    }
   ],
   "source": [
    "entrada = 16 \n",
    "device = \"cuda\" if torch.cuda.is_available() else \"cpu\"\n",
    "device"
   ]
  },
  {
   "cell_type": "code",
   "execution_count": 53,
   "metadata": {},
   "outputs": [],
   "source": [
    "model = MLPClassification(entrada).to(device)"
   ]
  },
  {
   "cell_type": "code",
   "execution_count": 54,
   "metadata": {},
   "outputs": [
    {
     "data": {
      "text/plain": [
       "MLPClassification(\n",
       "  (layers): Sequential(\n",
       "    (0): Linear(in_features=16, out_features=1300, bias=True)\n",
       "    (1): ReLU()\n",
       "    (2): Linear(in_features=1300, out_features=700, bias=True)\n",
       "    (3): ReLU()\n",
       "    (4): Linear(in_features=700, out_features=350, bias=True)\n",
       "    (5): ReLU()\n",
       "    (6): Linear(in_features=350, out_features=200, bias=True)\n",
       "    (7): ReLU()\n",
       "    (8): Linear(in_features=200, out_features=50, bias=True)\n",
       "    (9): ReLU()\n",
       "    (10): Linear(in_features=50, out_features=1, bias=True)\n",
       "    (11): Sigmoid()\n",
       "  )\n",
       ")"
      ]
     },
     "execution_count": 54,
     "metadata": {},
     "output_type": "execute_result"
    }
   ],
   "source": [
    "model"
   ]
  },
  {
   "cell_type": "markdown",
   "metadata": {},
   "source": [
    "# Função de Custo"
   ]
  },
  {
   "cell_type": "code",
   "execution_count": 55,
   "metadata": {},
   "outputs": [],
   "source": [
    "optimizer = torch.optim.Adam(model.parameters(),lr=1e-3)\n",
    "#lossfunction = nn.BCEWithLogitsLoss()\n",
    "lossfunction = nn.BCELoss()"
   ]
  },
  {
   "cell_type": "markdown",
   "metadata": {},
   "source": [
    "# Função Treino e Teste"
   ]
  },
  {
   "cell_type": "code",
   "execution_count": 56,
   "metadata": {},
   "outputs": [],
   "source": [
    "def train(modelo,dataloader,funcao_de_custo,otimizador):\n",
    "  modelo.train() # praparado para ser treinado\n",
    "  erro_acumulativo = 0.0\n",
    "  for _, (data, target) in enumerate(dataloader):\n",
    "    target, datas =  target.float().to(device), data.float().to(device)\n",
    "    pred = modelo(datas)\n",
    "    perda = funcao_de_custo(pred,target.unsqueeze(1).to(device))\n",
    "\n",
    "    otimizador.zero_grad() # zero os gradientes acumulados\n",
    "    perda.backward() #Calculo da gradiente\n",
    "    otimizador.step() # anda para a direção de menos erro\n",
    "\n",
    "    erro_acumulativo += perda.item()\n",
    "  return erro_acumulativo/len(dataloader)\n",
    "\n",
    "\n",
    "def test(modelo, dataloader, funcao_de_custo):\n",
    "    modelo.eval()  \n",
    "    total_acertos = 0\n",
    "    total_exemplos = 0\n",
    "    total_loss = 0.0\n",
    "\n",
    "    with torch.no_grad():  \n",
    "        for _, (data, target) in enumerate(dataloader):\n",
    "            target, datas = target.float().to(device), data.float().to(device)\n",
    "\n",
    "            pred = modelo(datas)\n",
    "            loss = funcao_de_custo(pred, target.unsqueeze(1).to(device))\n",
    "\n",
    "            # Arredonda as previsões para o valor mais próximo (0 ou 1)\n",
    "            pred_labels = torch.round(pred)\n",
    "\n",
    "            # Calcula o número de acertos\n",
    "            total_acertos += (pred_labels == target.unsqueeze(1).to(device)).sum().item()\n",
    "            total_exemplos += target.size(0)\n",
    "            total_loss += loss.item()\n",
    "\n",
    "    #accuracy = total_acertos / total_exemplos\n",
    "    avg_loss = total_loss / len(dataloader)\n",
    "\n",
    "    return  avg_loss"
   ]
  },
  {
   "cell_type": "markdown",
   "metadata": {},
   "source": [
    "# Treinando o Modelo"
   ]
  },
  {
   "cell_type": "code",
   "execution_count": 57,
   "metadata": {},
   "outputs": [
    {
     "name": "stdout",
     "output_type": "stream",
     "text": [
      "Epoca 0; erro : 0.46457931474494935\n",
      "Epoca 100; erro : 2.7360502971159617\n"
     ]
    }
   ],
   "source": [
    "vezes_treinando = 150\n",
    "for t in range(vezes_treinando):\n",
    "  train_erro = train(model,train_dataloader,lossfunction,optimizer)\n",
    "  if t %100 ==0:\n",
    "    print(f\"Epoca {t}; erro : {train_erro}\")\n",
    "  test_erro = test(model,test_dataloader,lossfunction)\n",
    "print(f\"erro : {test_erro}\")"
   ]
  },
  {
   "cell_type": "code",
   "execution_count": null,
   "metadata": {},
   "outputs": [],
   "source": [
    "caminho_arquivo = 'model/2420_neuronios_adam.pth'\n",
    "\n",
    "# Salvar o modelo\n",
    "torch.save(model.state_dict(), caminho_arquivo)"
   ]
  },
  {
   "cell_type": "markdown",
   "metadata": {},
   "source": [
    "# Metricas"
   ]
  },
  {
   "cell_type": "code",
   "execution_count": null,
   "metadata": {},
   "outputs": [],
   "source": [
    "import numpy as np\n",
    "from sklearn.metrics import roc_curve, auc\n",
    "import matplotlib.pyplot as plt\n",
    "\n",
    "def plot_roc_curve(modelo, dataloader):\n",
    "    modelo.eval()  # Define o modelo para o modo de avaliação\n",
    "    all_labels = []\n",
    "    all_probs = []\n",
    "\n",
    "    with torch.no_grad():  # Desliga o cálculo de gradientes para economizar memória e acelerar o processo\n",
    "        for _, (data, target) in enumerate(dataloader):\n",
    "            target, imgs = target.float().to(device), data.float().to(device)\n",
    "\n",
    "            pred_probs = torch.sigmoid(modelo(imgs)).cpu().numpy()  # Probabilidades previstas pelo modelo\n",
    "            all_probs.extend(pred_probs)\n",
    "            all_labels.extend(target.cpu().numpy())\n",
    "\n",
    "    fpr, tpr, thresholds = roc_curve(all_labels, all_probs)\n",
    "    roc_auc = auc(fpr, tpr)\n",
    "\n",
    "    plt.figure()\n",
    "    lw = 2\n",
    "    plt.plot(fpr, tpr, color='darkorange',\n",
    "             lw=lw, label='ROC curve (area = %0.2f)' % roc_auc)\n",
    "    plt.plot([0, 1], [0, 1], color='navy', lw=lw, linestyle='--')\n",
    "    plt.xlim([0.0, 1.0])\n",
    "    plt.ylim([0.0, 1.05])\n",
    "    plt.xlabel('False Positive Rate')\n",
    "    plt.ylabel('True Positive Rate')\n",
    "    plt.title('Receiver Operating Characteristic (ROC)')\n",
    "    plt.legend(loc=\"lower right\")\n",
    "    plt.show()\n",
    "\n"
   ]
  },
  {
   "cell_type": "code",
   "execution_count": null,
   "metadata": {},
   "outputs": [
    {
     "data": {
      "image/png": "[encoded data removed]",
      "text/plain": [
       "<Figure size 640x480 with 1 Axes>"
      ]
     },
     "metadata": {},
     "output_type": "display_data"
    }
   ],
   "source": [
    "plot_roc_curve(model, test_dataloader)"
   ]
  },
  {
   "cell_type": "code",
   "execution_count": null,
   "metadata": {},
   "outputs": [
    {
     "ename": "AttributeError",
     "evalue": "'DataLoader' object has no attribute '__getitem__'",
     "output_type": "error",
     "traceback": [
      "\u001b[0;31m---------------------------------------------------------------------------\u001b[0m",
      "\u001b[0;31mAttributeError\u001b[0m                            Traceback (most recent call last)",
      "Cell \u001b[0;32mIn[34], line 1\u001b[0m\n\u001b[0;32m----> 1\u001b[0m \u001b[43mtrain_dataloader\u001b[49m\u001b[38;5;241;43m.\u001b[39;49m\u001b[38;5;21;43m__getitem__\u001b[39;49m\n",
      "\u001b[0;31mAttributeError\u001b[0m: 'DataLoader' object has no attribute '__getitem__'"
     ]
    }
   ],
   "source": [
    "train_dataloader.__getitem__"
   ]
  },
  {
   "cell_type": "code",
   "execution_count": null,
   "metadata": {},
   "outputs": [
    {
     "data": {
      "image/png": "[encoded data removed]",
      "text/plain": [
       "<Figure size 640x480 with 1 Axes>"
      ]
     },
     "metadata": {},
     "output_type": "display_data"
    }
   ],
   "source": [
    "plot_roc_curve(model, train_dataloader)"
   ]
  }
 ],
 "metadata": {
  "kernelspec": {
   "display_name": "principal",
   "language": "python",
   "name": "python3"
  },
  "language_info": {
   "codemirror_mode": {
    "name": "ipython",
    "version": 3
   },
   "file_extension": ".py",
   "mimetype": "text/x-python",
   "name": "python",
   "nbconvert_exporter": "python",
   "pygments_lexer": "ipython3",
   "version": "3.12.3"
  }
 },
 "nbformat": 4,
 "nbformat_minor": 2
}
